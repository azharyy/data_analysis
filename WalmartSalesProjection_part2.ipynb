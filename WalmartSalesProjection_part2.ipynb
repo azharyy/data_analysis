{
 "cells": [
  {
   "cell_type": "code",
   "execution_count": 2,
   "id": "5f132e9f",
   "metadata": {},
   "outputs": [],
   "source": [
    "import pandas as pd\n",
    "import numpy as np\n",
    "import matplotlib.pyplot as plt\n",
    "import seaborn as sns\n",
    "from bs4 import BeautifulSoup\n",
    "import requests,lxml"
   ]
  },
  {
   "cell_type": "code",
   "execution_count": 3,
   "id": "19a01dd1",
   "metadata": {},
   "outputs": [],
   "source": [
    "no_pages = 20\n",
    "#function which will input the page numbers as an argument\n",
    "def get_data(pageNo): \n",
    "    #defining headers which will help in bypassing the detection as a scraper\n",
    "    headers = {\"User-Agent\":\"Mozilla/5.0 (Windows NT 10.0; Win64; x64; rv:66.0) Gecko/20100101 Firefox/66.0\", \"Accept-Encoding\":\"gzip, deflate\", \"Accept\":\"text/html,application/xhtml+xml,application/xml;q=0.9,*/*;q=0.8\", \"DNT\":\"1\",\"Connection\":\"close\", \"Upgrade-Insecure-Requests\":\"1\"}\n",
    "    \n",
    "    #Specify the URL to requests.get and pass the user-agent header as an argument\n",
    "    r = requests.get('https://www.amazon.eg/-/en/s?i=electronics&rh=n%3A21832868031&fs=true&qid=1651952313&ref=sr_pg_'+str(pageNo), headers=headers)#, proxies=proxies)\n",
    "    \n",
    "    #Extract the content from requests.get\n",
    "    content = r.content\n",
    "    \n",
    "    #Scrape the specified page and assign it to soup variable\n",
    "    soup = BeautifulSoup(content)\n",
    "\n",
    "    alls = []\n",
    "    \n",
    "    #Extracting the data using the parent tag\n",
    "    for d in soup.findAll('div', attrs={'class':'sg-col-inner'}):\n",
    "        name = d.find('span', attrs={'class':'a-size-base-plus a-color-base a-text-normal'})\n",
    "        rating = d.find('span', attrs={'class':'a-icon-alt'})\n",
    "        users_rated = d.find('span', attrs={'class':'a-size-base s-underline-text'})\n",
    "        price = d.find('span', attrs={'class':'a-price-whole'})\n",
    "\n",
    "        all1=[]\n",
    "\n",
    "        if name is not None:\n",
    "            all1.append(name.text)\n",
    "        else:\n",
    "            all1.append(\"unknown-product\")\n",
    "\n",
    "\n",
    "        if rating is not None:\n",
    "            all1.append(rating.text)\n",
    "        else:\n",
    "            all1.append('-1')\n",
    "\n",
    "        if users_rated is not None:\n",
    "            all1.append(users_rated.text)\n",
    "        else:\n",
    "            all1.append('0')     \n",
    "\n",
    "        if price is not None:\n",
    "            all1.append(price.text)\n",
    "        else:\n",
    "            all1.append('0')\n",
    "        alls.append(all1)    \n",
    "    return alls"
   ]
  },
  {
   "cell_type": "code",
   "execution_count": 4,
   "id": "b7dfd3d6",
   "metadata": {},
   "outputs": [],
   "source": [
    "results = []\n",
    "#Call the get_data function inside a for loop\n",
    "#The for loop will iterate over this function starting from 1 till the number of pages+1.\n",
    "for i in range(1, no_pages+1):\n",
    "    results.append(get_data(i))\n",
    "\n",
    "#Since the output will be a nested list, you would first flatten the list and then pass it to the DataFrame.  \n",
    "flatten = lambda l: [item for sublist in l for item in sublist]\n",
    "df = pd.DataFrame(flatten(results),columns=['Product_Name','Rating','Customers_Rated', 'Price'])\n",
    "\n",
    "#save the dataframe as a CSV file.\n",
    "df.to_csv('amazon_products.csv', index=False, encoding='utf-8')"
   ]
  },
  {
   "cell_type": "code",
   "execution_count": 5,
   "id": "b69021e9",
   "metadata": {},
   "outputs": [
    {
     "data": {
      "text/html": [
       "<div>\n",
       "<style scoped>\n",
       "    .dataframe tbody tr th:only-of-type {\n",
       "        vertical-align: middle;\n",
       "    }\n",
       "\n",
       "    .dataframe tbody tr th {\n",
       "        vertical-align: top;\n",
       "    }\n",
       "\n",
       "    .dataframe thead th {\n",
       "        text-align: right;\n",
       "    }\n",
       "</style>\n",
       "<table border=\"1\" class=\"dataframe\">\n",
       "  <thead>\n",
       "    <tr style=\"text-align: right;\">\n",
       "      <th></th>\n",
       "      <th>Product_Name</th>\n",
       "      <th>Rating</th>\n",
       "      <th>Customers_Rated</th>\n",
       "      <th>Price</th>\n",
       "    </tr>\n",
       "  </thead>\n",
       "  <tbody>\n",
       "    <tr>\n",
       "      <th>0</th>\n",
       "      <td>unknown-product</td>\n",
       "      <td>-1</td>\n",
       "      <td>0</td>\n",
       "      <td>0</td>\n",
       "    </tr>\n",
       "    <tr>\n",
       "      <th>1</th>\n",
       "      <td>unknown-product</td>\n",
       "      <td>-1</td>\n",
       "      <td>0</td>\n",
       "      <td>0</td>\n",
       "    </tr>\n",
       "    <tr>\n",
       "      <th>2</th>\n",
       "      <td>Samsung Galaxy A12 Dual SIM Mobile - 6.5 Inch,...</td>\n",
       "      <td>4.2 out of 5 stars</td>\n",
       "      <td>598</td>\n",
       "      <td>4,299.</td>\n",
       "    </tr>\n",
       "    <tr>\n",
       "      <th>3</th>\n",
       "      <td>Samsung Galaxy A12 Dual SIM Mobile - 6.5 Inch,...</td>\n",
       "      <td>4.2 out of 5 stars</td>\n",
       "      <td>598</td>\n",
       "      <td>4,299.</td>\n",
       "    </tr>\n",
       "    <tr>\n",
       "      <th>4</th>\n",
       "      <td>Samsung Galaxy A52 Dual SIM - 6.5 inches, 8 GB...</td>\n",
       "      <td>4.1 out of 5 stars</td>\n",
       "      <td>24</td>\n",
       "      <td>7,399.</td>\n",
       "    </tr>\n",
       "    <tr>\n",
       "      <th>...</th>\n",
       "      <td>...</td>\n",
       "      <td>...</td>\n",
       "      <td>...</td>\n",
       "      <td>...</td>\n",
       "    </tr>\n",
       "    <tr>\n",
       "      <th>495</th>\n",
       "      <td>Oppo A55 4GB RAM, 128GB - STARRY BALCK</td>\n",
       "      <td>3.1 out of 5 stars</td>\n",
       "      <td>6</td>\n",
       "      <td>0</td>\n",
       "    </tr>\n",
       "    <tr>\n",
       "      <th>496</th>\n",
       "      <td>Oppo A74 Dual SIM Mobile Phone - 6.43 Inch, 12...</td>\n",
       "      <td>3.6 out of 5 stars</td>\n",
       "      <td>6</td>\n",
       "      <td>6,190.</td>\n",
       "    </tr>\n",
       "    <tr>\n",
       "      <th>497</th>\n",
       "      <td>Xiaomi Redmi Note 10S Dual SIM Amoled Display ...</td>\n",
       "      <td>5.0 out of 5 stars</td>\n",
       "      <td>1</td>\n",
       "      <td>5,700.</td>\n",
       "    </tr>\n",
       "    <tr>\n",
       "      <th>498</th>\n",
       "      <td>Realme 8 Dual SIM - 6.4 inches, 128GB, 8GB RAM...</td>\n",
       "      <td>4.5 out of 5 stars</td>\n",
       "      <td>15</td>\n",
       "      <td>0</td>\n",
       "    </tr>\n",
       "    <tr>\n",
       "      <th>499</th>\n",
       "      <td>OPPO Reno 6 5G - 6.4-inch 128GB/8GB Dual SIM 5...</td>\n",
       "      <td>5.0 out of 5 stars</td>\n",
       "      <td>3</td>\n",
       "      <td>10,114.</td>\n",
       "    </tr>\n",
       "  </tbody>\n",
       "</table>\n",
       "<p>500 rows × 4 columns</p>\n",
       "</div>"
      ],
      "text/plain": [
       "                                          Product_Name              Rating  \\\n",
       "0                                      unknown-product                  -1   \n",
       "1                                      unknown-product                  -1   \n",
       "2    Samsung Galaxy A12 Dual SIM Mobile - 6.5 Inch,...  4.2 out of 5 stars   \n",
       "3    Samsung Galaxy A12 Dual SIM Mobile - 6.5 Inch,...  4.2 out of 5 stars   \n",
       "4    Samsung Galaxy A52 Dual SIM - 6.5 inches, 8 GB...  4.1 out of 5 stars   \n",
       "..                                                 ...                 ...   \n",
       "495             Oppo A55 4GB RAM, 128GB - STARRY BALCK  3.1 out of 5 stars   \n",
       "496  Oppo A74 Dual SIM Mobile Phone - 6.43 Inch, 12...  3.6 out of 5 stars   \n",
       "497  Xiaomi Redmi Note 10S Dual SIM Amoled Display ...  5.0 out of 5 stars   \n",
       "498  Realme 8 Dual SIM - 6.4 inches, 128GB, 8GB RAM...  4.5 out of 5 stars   \n",
       "499  OPPO Reno 6 5G - 6.4-inch 128GB/8GB Dual SIM 5...  5.0 out of 5 stars   \n",
       "\n",
       "    Customers_Rated    Price  \n",
       "0                 0        0  \n",
       "1                 0        0  \n",
       "2               598   4,299.  \n",
       "3               598   4,299.  \n",
       "4                24   7,399.  \n",
       "..              ...      ...  \n",
       "495               6        0  \n",
       "496               6   6,190.  \n",
       "497               1   5,700.  \n",
       "498              15        0  \n",
       "499               3  10,114.  \n",
       "\n",
       "[500 rows x 4 columns]"
      ]
     },
     "execution_count": 5,
     "metadata": {},
     "output_type": "execute_result"
    }
   ],
   "source": [
    "df = pd.read_csv(\"amazon_products.csv\")\n",
    "df.head(500)"
   ]
  },
  {
   "cell_type": "code",
   "execution_count": 6,
   "id": "e5211992",
   "metadata": {},
   "outputs": [
    {
     "data": {
      "text/plain": [
       "Product_Name       object\n",
       "Rating             object\n",
       "Customers_Rated    object\n",
       "Price              object\n",
       "dtype: object"
      ]
     },
     "execution_count": 6,
     "metadata": {},
     "output_type": "execute_result"
    }
   ],
   "source": [
    "df.dtypes"
   ]
  },
  {
   "cell_type": "markdown",
   "id": "32a4ab49",
   "metadata": {},
   "source": [
    "- Since you know the ratings are out of 5, you can keep only the rating and remove the extra part from it.\n",
    "- From the customers_rated column, remove the comma.\n",
    "- From the price column, remove the comma, and split it by dot.\n",
    "- Finally, convert all the three columns into float."
   ]
  },
  {
   "cell_type": "code",
   "execution_count": 7,
   "id": "a2087e1e",
   "metadata": {},
   "outputs": [],
   "source": [
    "df['Rating'] = df['Rating'].apply(lambda x: x.split()[0])\n",
    "df['Rating'] = pd.to_numeric(df['Rating'])"
   ]
  },
  {
   "cell_type": "code",
   "execution_count": 8,
   "id": "0f2ab61a",
   "metadata": {},
   "outputs": [],
   "source": [
    "df[\"Price\"] = df[\"Price\"].str.replace(',', '')\n",
    "df['Price'] = df['Price'].apply(lambda x: x.split('.')[0])\n",
    "df['Price'] = df['Price'].astype(int)"
   ]
  },
  {
   "cell_type": "code",
   "execution_count": 9,
   "id": "5fa7af07",
   "metadata": {},
   "outputs": [],
   "source": [
    "df[\"Customers_Rated\"] = df[\"Customers_Rated\"].str.replace(',', '')\n",
    "df['Customers_Rated'] = pd.to_numeric(df['Customers_Rated'], errors='ignore')"
   ]
  },
  {
   "cell_type": "code",
   "execution_count": 10,
   "id": "132986ca",
   "metadata": {},
   "outputs": [],
   "source": [
    "#convert the 0 and -1 values to NaN\n",
    "df.replace(str(0), np.nan, inplace=True)\n",
    "df.replace(0, np.nan, inplace=True)\n",
    "df.replace(-1, np.nan, inplace=True)"
   ]
  },
  {
   "cell_type": "code",
   "execution_count": 11,
   "id": "ede9fe48",
   "metadata": {},
   "outputs": [
    {
     "data": {
      "text/plain": [
       "Product_Name         0\n",
       "Rating              36\n",
       "Customers_Rated     54\n",
       "Price              144\n",
       "dtype: int64"
      ]
     },
     "execution_count": 11,
     "metadata": {},
     "output_type": "execute_result"
    }
   ],
   "source": [
    "df.isnull().sum()"
   ]
  },
  {
   "cell_type": "code",
   "execution_count": 12,
   "id": "14247fc0",
   "metadata": {},
   "outputs": [],
   "source": [
    "#drop nulls\n",
    "df = df.dropna()"
   ]
  },
  {
   "cell_type": "code",
   "execution_count": 13,
   "id": "8697e348",
   "metadata": {},
   "outputs": [],
   "source": [
    "#reset the index\n",
    "df.reset_index(drop=True, inplace=True)"
   ]
  },
  {
   "cell_type": "code",
   "execution_count": 14,
   "id": "7858c1a6",
   "metadata": {},
   "outputs": [
    {
     "data": {
      "text/html": [
       "<div>\n",
       "<style scoped>\n",
       "    .dataframe tbody tr th:only-of-type {\n",
       "        vertical-align: middle;\n",
       "    }\n",
       "\n",
       "    .dataframe tbody tr th {\n",
       "        vertical-align: top;\n",
       "    }\n",
       "\n",
       "    .dataframe thead th {\n",
       "        text-align: right;\n",
       "    }\n",
       "</style>\n",
       "<table border=\"1\" class=\"dataframe\">\n",
       "  <thead>\n",
       "    <tr style=\"text-align: right;\">\n",
       "      <th></th>\n",
       "      <th>Product_Name</th>\n",
       "      <th>Rating</th>\n",
       "      <th>Customers_Rated</th>\n",
       "      <th>Price</th>\n",
       "    </tr>\n",
       "  </thead>\n",
       "  <tbody>\n",
       "    <tr>\n",
       "      <th>0</th>\n",
       "      <td>Samsung Galaxy A12 Dual SIM Mobile - 6.5 Inch,...</td>\n",
       "      <td>4.2</td>\n",
       "      <td>598.0</td>\n",
       "      <td>4299.0</td>\n",
       "    </tr>\n",
       "    <tr>\n",
       "      <th>1</th>\n",
       "      <td>Samsung Galaxy A12 Dual SIM Mobile - 6.5 Inch,...</td>\n",
       "      <td>4.2</td>\n",
       "      <td>598.0</td>\n",
       "      <td>4299.0</td>\n",
       "    </tr>\n",
       "    <tr>\n",
       "      <th>2</th>\n",
       "      <td>Samsung Galaxy A52 Dual SIM - 6.5 inches, 8 GB...</td>\n",
       "      <td>4.1</td>\n",
       "      <td>24.0</td>\n",
       "      <td>7399.0</td>\n",
       "    </tr>\n",
       "    <tr>\n",
       "      <th>3</th>\n",
       "      <td>Samsung Galaxy A52 Dual SIM - 6.5 inches, 8 GB...</td>\n",
       "      <td>4.4</td>\n",
       "      <td>12.0</td>\n",
       "      <td>7444.0</td>\n",
       "    </tr>\n",
       "    <tr>\n",
       "      <th>4</th>\n",
       "      <td>Reno 6 Black Dual Sim 8GB RAM 128GB 4G LTE -</td>\n",
       "      <td>4.6</td>\n",
       "      <td>22.0</td>\n",
       "      <td>8399.0</td>\n",
       "    </tr>\n",
       "    <tr>\n",
       "      <th>...</th>\n",
       "      <td>...</td>\n",
       "      <td>...</td>\n",
       "      <td>...</td>\n",
       "      <td>...</td>\n",
       "    </tr>\n",
       "    <tr>\n",
       "      <th>355</th>\n",
       "      <td>Xiaomi Redmi Note 10S Dual SIM Amoled Display ...</td>\n",
       "      <td>5.0</td>\n",
       "      <td>1.0</td>\n",
       "      <td>5700.0</td>\n",
       "    </tr>\n",
       "    <tr>\n",
       "      <th>356</th>\n",
       "      <td>OPPO Reno 6 5G - 6.4-inch 128GB/8GB Dual SIM 5...</td>\n",
       "      <td>5.0</td>\n",
       "      <td>3.0</td>\n",
       "      <td>10114.0</td>\n",
       "    </tr>\n",
       "    <tr>\n",
       "      <th>357</th>\n",
       "      <td>Xiaomi Mi VXN4304GL Fast Charging Power Bank 2...</td>\n",
       "      <td>4.3</td>\n",
       "      <td>459.0</td>\n",
       "      <td>421.0</td>\n",
       "    </tr>\n",
       "    <tr>\n",
       "      <th>358</th>\n",
       "      <td>Apple iPhone 13 Pro Max with FaceTime - 256GB,...</td>\n",
       "      <td>4.5</td>\n",
       "      <td>13.0</td>\n",
       "      <td>28840.0</td>\n",
       "    </tr>\n",
       "    <tr>\n",
       "      <th>359</th>\n",
       "      <td>TCL MTRO200BT Wireless On-Ear Headphones Super...</td>\n",
       "      <td>3.8</td>\n",
       "      <td>133.0</td>\n",
       "      <td>320.0</td>\n",
       "    </tr>\n",
       "  </tbody>\n",
       "</table>\n",
       "<p>360 rows × 4 columns</p>\n",
       "</div>"
      ],
      "text/plain": [
       "                                          Product_Name  Rating  \\\n",
       "0    Samsung Galaxy A12 Dual SIM Mobile - 6.5 Inch,...     4.2   \n",
       "1    Samsung Galaxy A12 Dual SIM Mobile - 6.5 Inch,...     4.2   \n",
       "2    Samsung Galaxy A52 Dual SIM - 6.5 inches, 8 GB...     4.1   \n",
       "3    Samsung Galaxy A52 Dual SIM - 6.5 inches, 8 GB...     4.4   \n",
       "4         Reno 6 Black Dual Sim 8GB RAM 128GB 4G LTE -     4.6   \n",
       "..                                                 ...     ...   \n",
       "355  Xiaomi Redmi Note 10S Dual SIM Amoled Display ...     5.0   \n",
       "356  OPPO Reno 6 5G - 6.4-inch 128GB/8GB Dual SIM 5...     5.0   \n",
       "357  Xiaomi Mi VXN4304GL Fast Charging Power Bank 2...     4.3   \n",
       "358  Apple iPhone 13 Pro Max with FaceTime - 256GB,...     4.5   \n",
       "359  TCL MTRO200BT Wireless On-Ear Headphones Super...     3.8   \n",
       "\n",
       "     Customers_Rated    Price  \n",
       "0              598.0   4299.0  \n",
       "1              598.0   4299.0  \n",
       "2               24.0   7399.0  \n",
       "3               12.0   7444.0  \n",
       "4               22.0   8399.0  \n",
       "..               ...      ...  \n",
       "355              1.0   5700.0  \n",
       "356              3.0  10114.0  \n",
       "357            459.0    421.0  \n",
       "358             13.0  28840.0  \n",
       "359            133.0    320.0  \n",
       "\n",
       "[360 rows x 4 columns]"
      ]
     },
     "execution_count": 14,
     "metadata": {},
     "output_type": "execute_result"
    }
   ],
   "source": [
    "df.head(500)"
   ]
  },
  {
   "cell_type": "code",
   "execution_count": 15,
   "id": "9986c7c8",
   "metadata": {},
   "outputs": [],
   "source": [
    "#dropping the outliers\n",
    "df = df[df[\"Customers_Rated\"] < 2000]\n",
    "df = df[df[\"Price\"] < 15000]"
   ]
  },
  {
   "cell_type": "code",
   "execution_count": 16,
   "id": "013f2659",
   "metadata": {},
   "outputs": [
    {
     "data": {
      "text/plain": [
       "<AxesSubplot:xlabel='Price', ylabel='Customers_Rated'>"
      ]
     },
     "execution_count": 16,
     "metadata": {},
     "output_type": "execute_result"
    },
    {
     "data": {
      "image/png": "[encoded data removed]",
      "text/plain": [
       "<Figure size 432x288 with 1 Axes>"
      ]
     },
     "metadata": {
      "needs_background": "light"
     },
     "output_type": "display_data"
    }
   ],
   "source": [
    "sns.lineplot(data=df, x=\"Price\", y=\"Customers_Rated\")"
   ]
  },
  {
   "cell_type": "code",
   "execution_count": 17,
   "id": "2e834c90",
   "metadata": {},
   "outputs": [
    {
     "data": {
      "text/plain": [
       "<AxesSubplot:xlabel='Rating', ylabel='Customers_Rated'>"
      ]
     },
     "execution_count": 17,
     "metadata": {},
     "output_type": "execute_result"
    },
    {
     "data": {
      "image/png": "[encoded data removed]",
      "text/plain": [
       "<Figure size 432x288 with 1 Axes>"
      ]
     },
     "metadata": {
      "needs_background": "light"
     },
     "output_type": "display_data"
    }
   ],
   "source": [
    "sns.lineplot(data=df, x=\"Rating\", y=\"Customers_Rated\")"
   ]
  },
  {
   "cell_type": "code",
   "execution_count": 19,
   "id": "8cddc93d",
   "metadata": {},
   "outputs": [
    {
     "data": {
      "text/html": [
       "<div>\n",
       "<style scoped>\n",
       "    .dataframe tbody tr th:only-of-type {\n",
       "        vertical-align: middle;\n",
       "    }\n",
       "\n",
       "    .dataframe tbody tr th {\n",
       "        vertical-align: top;\n",
       "    }\n",
       "\n",
       "    .dataframe thead th {\n",
       "        text-align: right;\n",
       "    }\n",
       "</style>\n",
       "<table border=\"1\" class=\"dataframe\">\n",
       "  <thead>\n",
       "    <tr style=\"text-align: right;\">\n",
       "      <th></th>\n",
       "      <th>Product_Name</th>\n",
       "      <th>Rating</th>\n",
       "      <th>Customers_Rated</th>\n",
       "      <th>Price</th>\n",
       "    </tr>\n",
       "  </thead>\n",
       "  <tbody>\n",
       "    <tr>\n",
       "      <th>0</th>\n",
       "      <td>Samsung Galaxy A12 Dual SIM Mobile - 6.5 Inch,...</td>\n",
       "      <td>4.2</td>\n",
       "      <td>598.0</td>\n",
       "      <td>4299.0</td>\n",
       "    </tr>\n",
       "    <tr>\n",
       "      <th>1</th>\n",
       "      <td>Samsung Galaxy A12 Dual SIM Mobile - 6.5 Inch,...</td>\n",
       "      <td>4.2</td>\n",
       "      <td>598.0</td>\n",
       "      <td>4299.0</td>\n",
       "    </tr>\n",
       "    <tr>\n",
       "      <th>2</th>\n",
       "      <td>Samsung Galaxy A52 Dual SIM - 6.5 inches, 8 GB...</td>\n",
       "      <td>4.1</td>\n",
       "      <td>24.0</td>\n",
       "      <td>7399.0</td>\n",
       "    </tr>\n",
       "    <tr>\n",
       "      <th>3</th>\n",
       "      <td>Samsung Galaxy A52 Dual SIM - 6.5 inches, 8 GB...</td>\n",
       "      <td>4.4</td>\n",
       "      <td>12.0</td>\n",
       "      <td>7444.0</td>\n",
       "    </tr>\n",
       "    <tr>\n",
       "      <th>4</th>\n",
       "      <td>Reno 6 Black Dual Sim 8GB RAM 128GB 4G LTE -</td>\n",
       "      <td>4.6</td>\n",
       "      <td>22.0</td>\n",
       "      <td>8399.0</td>\n",
       "    </tr>\n",
       "  </tbody>\n",
       "</table>\n",
       "</div>"
      ],
      "text/plain": [
       "                                        Product_Name  Rating  Customers_Rated  \\\n",
       "0  Samsung Galaxy A12 Dual SIM Mobile - 6.5 Inch,...     4.2            598.0   \n",
       "1  Samsung Galaxy A12 Dual SIM Mobile - 6.5 Inch,...     4.2            598.0   \n",
       "2  Samsung Galaxy A52 Dual SIM - 6.5 inches, 8 GB...     4.1             24.0   \n",
       "3  Samsung Galaxy A52 Dual SIM - 6.5 inches, 8 GB...     4.4             12.0   \n",
       "4       Reno 6 Black Dual Sim 8GB RAM 128GB 4G LTE -     4.6             22.0   \n",
       "\n",
       "    Price  \n",
       "0  4299.0  \n",
       "1  4299.0  \n",
       "2  7399.0  \n",
       "3  7444.0  \n",
       "4  8399.0  "
      ]
     },
     "execution_count": 19,
     "metadata": {},
     "output_type": "execute_result"
    }
   ],
   "source": [
    "df.head()"
   ]
  },
  {
   "cell_type": "code",
   "execution_count": 20,
   "id": "5b868ca2",
   "metadata": {},
   "outputs": [],
   "source": [
    "df['Price']=pd.cut(df.Price,\n",
    "                  bins=[4000,6000,8000],labels=['4000-6000','6000-8000'])"
   ]
  },
  {
   "cell_type": "code",
   "execution_count": 21,
   "id": "091826a2",
   "metadata": {},
   "outputs": [
    {
     "data": {
      "text/plain": [
       "<bound method DataFrame.dropna of                                           Product_Name  Rating  \\\n",
       "0    Samsung Galaxy A12 Dual SIM Mobile - 6.5 Inch,...     4.2   \n",
       "1    Samsung Galaxy A12 Dual SIM Mobile - 6.5 Inch,...     4.2   \n",
       "2    Samsung Galaxy A52 Dual SIM - 6.5 inches, 8 GB...     4.1   \n",
       "3    Samsung Galaxy A52 Dual SIM - 6.5 inches, 8 GB...     4.4   \n",
       "4         Reno 6 Black Dual Sim 8GB RAM 128GB 4G LTE -     4.6   \n",
       "..                                                 ...     ...   \n",
       "354  Oppo A74 Dual SIM Mobile Phone - 6.43 Inch, 12...     3.6   \n",
       "355  Xiaomi Redmi Note 10S Dual SIM Amoled Display ...     5.0   \n",
       "356  OPPO Reno 6 5G - 6.4-inch 128GB/8GB Dual SIM 5...     5.0   \n",
       "357  Xiaomi Mi VXN4304GL Fast Charging Power Bank 2...     4.3   \n",
       "359  TCL MTRO200BT Wireless On-Ear Headphones Super...     3.8   \n",
       "\n",
       "     Customers_Rated      Price  \n",
       "0              598.0  4000-6000  \n",
       "1              598.0  4000-6000  \n",
       "2               24.0  6000-8000  \n",
       "3               12.0  6000-8000  \n",
       "4               22.0        NaN  \n",
       "..               ...        ...  \n",
       "354              6.0  6000-8000  \n",
       "355              1.0  4000-6000  \n",
       "356              3.0        NaN  \n",
       "357            459.0        NaN  \n",
       "359            133.0        NaN  \n",
       "\n",
       "[288 rows x 4 columns]>"
      ]
     },
     "execution_count": 21,
     "metadata": {},
     "output_type": "execute_result"
    }
   ],
   "source": [
    "df.dropna"
   ]
  },
  {
   "cell_type": "code",
   "execution_count": 22,
   "id": "bbe31f62",
   "metadata": {},
   "outputs": [],
   "source": [
    "df.dropna(inplace=True)"
   ]
  },
  {
   "cell_type": "code",
   "execution_count": 23,
   "id": "e201a4df",
   "metadata": {},
   "outputs": [],
   "source": [
    "df['Rating']=pd.cut(df.Rating,\n",
    "                  bins=[3,4,5],labels=['3-4','4-5'])"
   ]
  },
  {
   "cell_type": "markdown",
   "id": "1055cd1e",
   "metadata": {},
   "source": [
    "# Step 1: Collect observed frequency data"
   ]
  },
  {
   "cell_type": "code",
   "execution_count": 41,
   "id": "b784cd84",
   "metadata": {},
   "outputs": [],
   "source": [
    "## Getting our new rows and cols\n",
    "rows=df['Rating'].unique()\n",
    "cols=df['Price'].unique()"
   ]
  },
  {
   "cell_type": "code",
   "execution_count": 42,
   "id": "204f92d4",
   "metadata": {},
   "outputs": [
    {
     "data": {
      "text/plain": [
       "[[108, 36], [18, 18]]"
      ]
     },
     "execution_count": 42,
     "metadata": {},
     "output_type": "execute_result"
    }
   ],
   "source": [
    "## Counting the values\n",
    "matrix=[]\n",
    "for i in rows:\n",
    "    l=[]\n",
    "    for j in cols:\n",
    "        l.append(len(df[(df['Rating']==i) & (df['Price']==j)]))\n",
    "    matrix.append(l)\n",
    "matrix"
   ]
  },
  {
   "cell_type": "code",
   "execution_count": 43,
   "id": "5b745ec7",
   "metadata": {},
   "outputs": [
    {
     "data": {
      "text/html": [
       "<div>\n",
       "<style scoped>\n",
       "    .dataframe tbody tr th:only-of-type {\n",
       "        vertical-align: middle;\n",
       "    }\n",
       "\n",
       "    .dataframe tbody tr th {\n",
       "        vertical-align: top;\n",
       "    }\n",
       "\n",
       "    .dataframe thead th {\n",
       "        text-align: right;\n",
       "    }\n",
       "</style>\n",
       "<table border=\"1\" class=\"dataframe\">\n",
       "  <thead>\n",
       "    <tr style=\"text-align: right;\">\n",
       "      <th></th>\n",
       "      <th>4000-6000</th>\n",
       "      <th>6000-8000</th>\n",
       "    </tr>\n",
       "  </thead>\n",
       "  <tbody>\n",
       "    <tr>\n",
       "      <th>4-5</th>\n",
       "      <td>108</td>\n",
       "      <td>36</td>\n",
       "    </tr>\n",
       "    <tr>\n",
       "      <th>3-4</th>\n",
       "      <td>18</td>\n",
       "      <td>18</td>\n",
       "    </tr>\n",
       "  </tbody>\n",
       "</table>\n",
       "</div>"
      ],
      "text/plain": [
       "     4000-6000  6000-8000\n",
       "4-5        108         36\n",
       "3-4         18         18"
      ]
     },
     "execution_count": 43,
     "metadata": {},
     "output_type": "execute_result"
    }
   ],
   "source": [
    "pd.DataFrame(matrix,index=rows,columns=cols)"
   ]
  },
  {
   "cell_type": "code",
   "execution_count": 44,
   "id": "90558499",
   "metadata": {},
   "outputs": [],
   "source": [
    "# Creating a dataframe\n",
    "observedValues=pd.DataFrame(matrix,index=rows,columns=cols)"
   ]
  },
  {
   "cell_type": "code",
   "execution_count": 45,
   "id": "9346d2ca",
   "metadata": {},
   "outputs": [
    {
     "data": {
      "text/plain": [
       "4000-6000    126\n",
       "6000-8000     54\n",
       "dtype: int64"
      ]
     },
     "execution_count": 45,
     "metadata": {},
     "output_type": "execute_result"
    }
   ],
   "source": [
    "## We will use sum to sum the columns\n",
    "observedValues.sum()"
   ]
  },
  {
   "cell_type": "code",
   "execution_count": 46,
   "id": "e236fbb2",
   "metadata": {},
   "outputs": [],
   "source": [
    "observedValues.loc['Total']=observedValues.sum()"
   ]
  },
  {
   "cell_type": "code",
   "execution_count": 47,
   "id": "58ac43fa",
   "metadata": {},
   "outputs": [],
   "source": [
    "## Then sum with axis =1 to sum rows\n",
    "observedValues['Total']=observedValues.sum(axis=1)"
   ]
  },
  {
   "cell_type": "code",
   "execution_count": 48,
   "id": "af3426cb",
   "metadata": {},
   "outputs": [
    {
     "data": {
      "text/plain": [
       "(180, 4)"
      ]
     },
     "execution_count": 48,
     "metadata": {},
     "output_type": "execute_result"
    }
   ],
   "source": [
    "df.shape"
   ]
  },
  {
   "cell_type": "code",
   "execution_count": 49,
   "id": "027955b5",
   "metadata": {},
   "outputs": [
    {
     "data": {
      "text/plain": [
       "[[100.8, 43.2], [25.2, 10.8]]"
      ]
     },
     "execution_count": 49,
     "metadata": {},
     "output_type": "execute_result"
    }
   ],
   "source": [
    "matrix=[]\n",
    "for i in rows:\n",
    "    l=[]\n",
    "    for j in cols:\n",
    "        v=(observedValues.loc[i,'Total']*observedValues.loc['Total',j])/observedValues.loc['Total','Total']\n",
    "        l.append(v)\n",
    "    matrix.append(l)\n",
    "matrix"
   ]
  },
  {
   "cell_type": "code",
   "execution_count": 50,
   "id": "576d6ae6",
   "metadata": {},
   "outputs": [
    {
     "data": {
      "text/html": [
       "<div>\n",
       "<style scoped>\n",
       "    .dataframe tbody tr th:only-of-type {\n",
       "        vertical-align: middle;\n",
       "    }\n",
       "\n",
       "    .dataframe tbody tr th {\n",
       "        vertical-align: top;\n",
       "    }\n",
       "\n",
       "    .dataframe thead th {\n",
       "        text-align: right;\n",
       "    }\n",
       "</style>\n",
       "<table border=\"1\" class=\"dataframe\">\n",
       "  <thead>\n",
       "    <tr style=\"text-align: right;\">\n",
       "      <th></th>\n",
       "      <th>4000-6000</th>\n",
       "      <th>6000-8000</th>\n",
       "    </tr>\n",
       "  </thead>\n",
       "  <tbody>\n",
       "    <tr>\n",
       "      <th>4-5</th>\n",
       "      <td>100.8</td>\n",
       "      <td>43.2</td>\n",
       "    </tr>\n",
       "    <tr>\n",
       "      <th>3-4</th>\n",
       "      <td>25.2</td>\n",
       "      <td>10.8</td>\n",
       "    </tr>\n",
       "  </tbody>\n",
       "</table>\n",
       "</div>"
      ],
      "text/plain": [
       "     4000-6000  6000-8000\n",
       "4-5      100.8       43.2\n",
       "3-4       25.2       10.8"
      ]
     },
     "execution_count": 50,
     "metadata": {},
     "output_type": "execute_result"
    }
   ],
   "source": [
    "expectedF=pd.DataFrame(matrix,index=rows,columns=cols)\n",
    "expectedF"
   ]
  },
  {
   "cell_type": "code",
   "execution_count": 51,
   "id": "6b55a23e",
   "metadata": {},
   "outputs": [],
   "source": [
    "observedValues.drop('Total',axis=1,inplace=True)\n",
    "observedValues.drop('Total',axis=0,inplace=True)"
   ]
  },
  {
   "cell_type": "code",
   "execution_count": 52,
   "id": "26c5ebff",
   "metadata": {},
   "outputs": [
    {
     "data": {
      "text/html": [
       "<div>\n",
       "<style scoped>\n",
       "    .dataframe tbody tr th:only-of-type {\n",
       "        vertical-align: middle;\n",
       "    }\n",
       "\n",
       "    .dataframe tbody tr th {\n",
       "        vertical-align: top;\n",
       "    }\n",
       "\n",
       "    .dataframe thead th {\n",
       "        text-align: right;\n",
       "    }\n",
       "</style>\n",
       "<table border=\"1\" class=\"dataframe\">\n",
       "  <thead>\n",
       "    <tr style=\"text-align: right;\">\n",
       "      <th></th>\n",
       "      <th>4000-6000</th>\n",
       "      <th>6000-8000</th>\n",
       "    </tr>\n",
       "  </thead>\n",
       "  <tbody>\n",
       "    <tr>\n",
       "      <th>4-5</th>\n",
       "      <td>108</td>\n",
       "      <td>36</td>\n",
       "    </tr>\n",
       "    <tr>\n",
       "      <th>3-4</th>\n",
       "      <td>18</td>\n",
       "      <td>18</td>\n",
       "    </tr>\n",
       "  </tbody>\n",
       "</table>\n",
       "</div>"
      ],
      "text/plain": [
       "     4000-6000  6000-8000\n",
       "4-5        108         36\n",
       "3-4         18         18"
      ]
     },
     "execution_count": 52,
     "metadata": {},
     "output_type": "execute_result"
    }
   ],
   "source": [
    "observedValues"
   ]
  },
  {
   "cell_type": "code",
   "execution_count": 53,
   "id": "a99f70b7",
   "metadata": {},
   "outputs": [
    {
     "data": {
      "text/plain": [
       "537"
      ]
     },
     "execution_count": 53,
     "metadata": {},
     "output_type": "execute_result"
    }
   ],
   "source": [
    "freeDom=(df.shape[0]-1)*(df.shape[1]-1)\n",
    "freeDom"
   ]
  },
  {
   "cell_type": "code",
   "execution_count": 54,
   "id": "d1fceae3",
   "metadata": {},
   "outputs": [
    {
     "data": {
      "text/plain": [
       "array([108,  36,  18,  18], dtype=int64)"
      ]
     },
     "execution_count": 54,
     "metadata": {},
     "output_type": "execute_result"
    }
   ],
   "source": [
    "observedValues.values.flatten()"
   ]
  },
  {
   "cell_type": "code",
   "execution_count": 55,
   "id": "59ddb02c",
   "metadata": {},
   "outputs": [],
   "source": [
    "from itertools import zip_longest\n",
    "def UniqueResults(dataframe):\n",
    "    tmp = [dataframe[col].unique() for col in dataframe]\n",
    "    return pd.DataFrame(zip_longest(*tmp), columns=dataframe.columns)\n",
    "\n",
    "out = UniqueResults(df)"
   ]
  },
  {
   "cell_type": "code",
   "execution_count": 56,
   "id": "01d66e83",
   "metadata": {},
   "outputs": [
    {
     "data": {
      "text/html": [
       "<div>\n",
       "<style scoped>\n",
       "    .dataframe tbody tr th:only-of-type {\n",
       "        vertical-align: middle;\n",
       "    }\n",
       "\n",
       "    .dataframe tbody tr th {\n",
       "        vertical-align: top;\n",
       "    }\n",
       "\n",
       "    .dataframe thead th {\n",
       "        text-align: right;\n",
       "    }\n",
       "</style>\n",
       "<table border=\"1\" class=\"dataframe\">\n",
       "  <thead>\n",
       "    <tr style=\"text-align: right;\">\n",
       "      <th></th>\n",
       "      <th>O</th>\n",
       "    </tr>\n",
       "  </thead>\n",
       "  <tbody>\n",
       "    <tr>\n",
       "      <th>0</th>\n",
       "      <td>108</td>\n",
       "    </tr>\n",
       "    <tr>\n",
       "      <th>1</th>\n",
       "      <td>36</td>\n",
       "    </tr>\n",
       "    <tr>\n",
       "      <th>2</th>\n",
       "      <td>18</td>\n",
       "    </tr>\n",
       "    <tr>\n",
       "      <th>3</th>\n",
       "      <td>18</td>\n",
       "    </tr>\n",
       "  </tbody>\n",
       "</table>\n",
       "</div>"
      ],
      "text/plain": [
       "     O\n",
       "0  108\n",
       "1   36\n",
       "2   18\n",
       "3   18"
      ]
     },
     "execution_count": 56,
     "metadata": {},
     "output_type": "execute_result"
    }
   ],
   "source": [
    "Table=pd.DataFrame(observedValues.values.flatten(),columns=['O'])\n",
    "Table"
   ]
  },
  {
   "cell_type": "code",
   "execution_count": 57,
   "id": "47aa123a",
   "metadata": {},
   "outputs": [
    {
     "data": {
      "text/html": [
       "<div>\n",
       "<style scoped>\n",
       "    .dataframe tbody tr th:only-of-type {\n",
       "        vertical-align: middle;\n",
       "    }\n",
       "\n",
       "    .dataframe tbody tr th {\n",
       "        vertical-align: top;\n",
       "    }\n",
       "\n",
       "    .dataframe thead th {\n",
       "        text-align: right;\n",
       "    }\n",
       "</style>\n",
       "<table border=\"1\" class=\"dataframe\">\n",
       "  <thead>\n",
       "    <tr style=\"text-align: right;\">\n",
       "      <th></th>\n",
       "      <th>O</th>\n",
       "      <th>E</th>\n",
       "    </tr>\n",
       "  </thead>\n",
       "  <tbody>\n",
       "    <tr>\n",
       "      <th>0</th>\n",
       "      <td>108</td>\n",
       "      <td>100.8</td>\n",
       "    </tr>\n",
       "    <tr>\n",
       "      <th>1</th>\n",
       "      <td>36</td>\n",
       "      <td>43.2</td>\n",
       "    </tr>\n",
       "    <tr>\n",
       "      <th>2</th>\n",
       "      <td>18</td>\n",
       "      <td>25.2</td>\n",
       "    </tr>\n",
       "    <tr>\n",
       "      <th>3</th>\n",
       "      <td>18</td>\n",
       "      <td>10.8</td>\n",
       "    </tr>\n",
       "  </tbody>\n",
       "</table>\n",
       "</div>"
      ],
      "text/plain": [
       "     O      E\n",
       "0  108  100.8\n",
       "1   36   43.2\n",
       "2   18   25.2\n",
       "3   18   10.8"
      ]
     },
     "execution_count": 57,
     "metadata": {},
     "output_type": "execute_result"
    }
   ],
   "source": [
    "## Let's add Expected value\n",
    "Table['E']=expectedF.values.flatten()\n",
    "Table"
   ]
  },
  {
   "cell_type": "code",
   "execution_count": 58,
   "id": "5c45a792",
   "metadata": {},
   "outputs": [
    {
     "data": {
      "text/html": [
       "<div>\n",
       "<style scoped>\n",
       "    .dataframe tbody tr th:only-of-type {\n",
       "        vertical-align: middle;\n",
       "    }\n",
       "\n",
       "    .dataframe tbody tr th {\n",
       "        vertical-align: top;\n",
       "    }\n",
       "\n",
       "    .dataframe thead th {\n",
       "        text-align: right;\n",
       "    }\n",
       "</style>\n",
       "<table border=\"1\" class=\"dataframe\">\n",
       "  <thead>\n",
       "    <tr style=\"text-align: right;\">\n",
       "      <th></th>\n",
       "      <th>O</th>\n",
       "      <th>E</th>\n",
       "      <th>O-E</th>\n",
       "    </tr>\n",
       "  </thead>\n",
       "  <tbody>\n",
       "    <tr>\n",
       "      <th>0</th>\n",
       "      <td>108</td>\n",
       "      <td>100.8</td>\n",
       "      <td>7.2</td>\n",
       "    </tr>\n",
       "    <tr>\n",
       "      <th>1</th>\n",
       "      <td>36</td>\n",
       "      <td>43.2</td>\n",
       "      <td>-7.2</td>\n",
       "    </tr>\n",
       "    <tr>\n",
       "      <th>2</th>\n",
       "      <td>18</td>\n",
       "      <td>25.2</td>\n",
       "      <td>-7.2</td>\n",
       "    </tr>\n",
       "    <tr>\n",
       "      <th>3</th>\n",
       "      <td>18</td>\n",
       "      <td>10.8</td>\n",
       "      <td>7.2</td>\n",
       "    </tr>\n",
       "  </tbody>\n",
       "</table>\n",
       "</div>"
      ],
      "text/plain": [
       "     O      E  O-E\n",
       "0  108  100.8  7.2\n",
       "1   36   43.2 -7.2\n",
       "2   18   25.2 -7.2\n",
       "3   18   10.8  7.2"
      ]
     },
     "execution_count": 58,
     "metadata": {},
     "output_type": "execute_result"
    }
   ],
   "source": [
    "## Let's calculate O-E\n",
    "Table['O-E']=Table['O']-Table['E']\n",
    "Table"
   ]
  },
  {
   "cell_type": "code",
   "execution_count": 59,
   "id": "c77f70f6",
   "metadata": {},
   "outputs": [
    {
     "data": {
      "text/html": [
       "<div>\n",
       "<style scoped>\n",
       "    .dataframe tbody tr th:only-of-type {\n",
       "        vertical-align: middle;\n",
       "    }\n",
       "\n",
       "    .dataframe tbody tr th {\n",
       "        vertical-align: top;\n",
       "    }\n",
       "\n",
       "    .dataframe thead th {\n",
       "        text-align: right;\n",
       "    }\n",
       "</style>\n",
       "<table border=\"1\" class=\"dataframe\">\n",
       "  <thead>\n",
       "    <tr style=\"text-align: right;\">\n",
       "      <th></th>\n",
       "      <th>O</th>\n",
       "      <th>E</th>\n",
       "      <th>O-E</th>\n",
       "      <th>(O-E)^2</th>\n",
       "    </tr>\n",
       "  </thead>\n",
       "  <tbody>\n",
       "    <tr>\n",
       "      <th>0</th>\n",
       "      <td>108</td>\n",
       "      <td>100.8</td>\n",
       "      <td>7.2</td>\n",
       "      <td>51.84</td>\n",
       "    </tr>\n",
       "    <tr>\n",
       "      <th>1</th>\n",
       "      <td>36</td>\n",
       "      <td>43.2</td>\n",
       "      <td>-7.2</td>\n",
       "      <td>51.84</td>\n",
       "    </tr>\n",
       "    <tr>\n",
       "      <th>2</th>\n",
       "      <td>18</td>\n",
       "      <td>25.2</td>\n",
       "      <td>-7.2</td>\n",
       "      <td>51.84</td>\n",
       "    </tr>\n",
       "    <tr>\n",
       "      <th>3</th>\n",
       "      <td>18</td>\n",
       "      <td>10.8</td>\n",
       "      <td>7.2</td>\n",
       "      <td>51.84</td>\n",
       "    </tr>\n",
       "  </tbody>\n",
       "</table>\n",
       "</div>"
      ],
      "text/plain": [
       "     O      E  O-E  (O-E)^2\n",
       "0  108  100.8  7.2    51.84\n",
       "1   36   43.2 -7.2    51.84\n",
       "2   18   25.2 -7.2    51.84\n",
       "3   18   10.8  7.2    51.84"
      ]
     },
     "execution_count": 59,
     "metadata": {},
     "output_type": "execute_result"
    }
   ],
   "source": [
    "## Let's calculate (O-E)^2\n",
    "Table['(O-E)^2']=Table['O-E']**2\n",
    "Table"
   ]
  },
  {
   "cell_type": "code",
   "execution_count": 60,
   "id": "ee2268d7",
   "metadata": {},
   "outputs": [
    {
     "data": {
      "text/html": [
       "<div>\n",
       "<style scoped>\n",
       "    .dataframe tbody tr th:only-of-type {\n",
       "        vertical-align: middle;\n",
       "    }\n",
       "\n",
       "    .dataframe tbody tr th {\n",
       "        vertical-align: top;\n",
       "    }\n",
       "\n",
       "    .dataframe thead th {\n",
       "        text-align: right;\n",
       "    }\n",
       "</style>\n",
       "<table border=\"1\" class=\"dataframe\">\n",
       "  <thead>\n",
       "    <tr style=\"text-align: right;\">\n",
       "      <th></th>\n",
       "      <th>O</th>\n",
       "      <th>E</th>\n",
       "      <th>O-E</th>\n",
       "      <th>(O-E)^2</th>\n",
       "      <th>((O-E)^2)\\E</th>\n",
       "    </tr>\n",
       "  </thead>\n",
       "  <tbody>\n",
       "    <tr>\n",
       "      <th>0</th>\n",
       "      <td>108</td>\n",
       "      <td>100.8</td>\n",
       "      <td>7.2</td>\n",
       "      <td>51.84</td>\n",
       "      <td>0.514286</td>\n",
       "    </tr>\n",
       "    <tr>\n",
       "      <th>1</th>\n",
       "      <td>36</td>\n",
       "      <td>43.2</td>\n",
       "      <td>-7.2</td>\n",
       "      <td>51.84</td>\n",
       "      <td>1.200000</td>\n",
       "    </tr>\n",
       "    <tr>\n",
       "      <th>2</th>\n",
       "      <td>18</td>\n",
       "      <td>25.2</td>\n",
       "      <td>-7.2</td>\n",
       "      <td>51.84</td>\n",
       "      <td>2.057143</td>\n",
       "    </tr>\n",
       "    <tr>\n",
       "      <th>3</th>\n",
       "      <td>18</td>\n",
       "      <td>10.8</td>\n",
       "      <td>7.2</td>\n",
       "      <td>51.84</td>\n",
       "      <td>4.800000</td>\n",
       "    </tr>\n",
       "  </tbody>\n",
       "</table>\n",
       "</div>"
      ],
      "text/plain": [
       "     O      E  O-E  (O-E)^2  ((O-E)^2)\\E\n",
       "0  108  100.8  7.2    51.84     0.514286\n",
       "1   36   43.2 -7.2    51.84     1.200000\n",
       "2   18   25.2 -7.2    51.84     2.057143\n",
       "3   18   10.8  7.2    51.84     4.800000"
      ]
     },
     "execution_count": 60,
     "metadata": {},
     "output_type": "execute_result"
    }
   ],
   "source": [
    "## Let's calculate ((O-E)^2)\\E\n",
    "Table['((O-E)^2)\\E']=Table['(O-E)^2']/Table['E']\n",
    "Table"
   ]
  },
  {
   "cell_type": "code",
   "execution_count": 61,
   "id": "9313f2b9",
   "metadata": {},
   "outputs": [
    {
     "data": {
      "text/plain": [
       "8.571428571428571"
      ]
     },
     "execution_count": 61,
     "metadata": {},
     "output_type": "execute_result"
    }
   ],
   "source": [
    "Score=Table['((O-E)^2)\\E'].sum()\n",
    "Score"
   ]
  },
  {
   "cell_type": "markdown",
   "id": "3e117c13",
   "metadata": {},
   "source": [
    "<img src='https://www.mun.ca/biology/scarr/IntroPopGen-Table-D-01-smc.jpg'>"
   ]
  },
  {
   "cell_type": "markdown",
   "id": "a3fe7e8a",
   "metadata": {},
   "source": [
    "We fail to Reject the Null Hypothesis"
   ]
  },
  {
   "cell_type": "code",
   "execution_count": null,
   "id": "50d5a7bd",
   "metadata": {},
   "outputs": [],
   "source": []
  }
 ],
 "metadata": {
  "kernelspec": {
   "display_name": "Python 3 (ipykernel)",
   "language": "python",
   "name": "python3"
  },
  "language_info": {
   "codemirror_mode": {
    "name": "ipython",
    "version": 3
   },
   "file_extension": ".py",
   "mimetype": "text/x-python",
   "name": "python",
   "nbconvert_exporter": "python",
   "pygments_lexer": "ipython3",
   "version": "3.9.7"
  }
 },
 "nbformat": 4,
 "nbformat_minor": 5
}
